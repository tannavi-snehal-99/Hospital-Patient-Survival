{
  "nbformat": 4,
  "nbformat_minor": 0,
  "metadata": {
    "colab": {
      "name": "Notebook.ipynb",
      "provenance": []
    },
    "kernelspec": {
      "name": "python3",
      "display_name": "Python 3"
    },
    "accelerator": "GPU"
  },
  "cells": [
    {
      "cell_type": "code",
      "metadata": {
        "id": "dEoNC3Ns1XOL"
      },
      "source": [
        "import pandas as pd\n",
        "import numpy as np\n",
        "pharma_data = pd.read_csv('https://raw.githubusercontent.com/dphi-official/Datasets/master/pharma_data/Training_set_begs.csv')\n",
        "test_data = pd.read_csv('https://raw.githubusercontent.com/dphi-official/Datasets/master/pharma_data/Testing_set_advc.csv')"
      ],
      "execution_count": 6,
      "outputs": []
    },
    {
      "cell_type": "markdown",
      "metadata": {
        "id": "ZTDT_7EEWfxk"
      },
      "source": [
        "ID_Patient_Care_Situation: Care situation of a patient during treatment\n",
        "\n",
        "Diagnosed_Condition: The diagnosed condition of the patient\n",
        "\n",
        "ID_Patient: Patient identifier number\n",
        "\n",
        "Treatment_with_drugs: Class of drugs used during treatment\n",
        "\n",
        "Survived_1_year: If the patient survived after one year (0 means did not survive; 1 means survived)\n",
        "\n",
        "Patient_Age: Age of the patient\n",
        "\n",
        "Patient_Body_Mass_Index: A calculated value based on the patient’s weight, height, etc.\n",
        "\n",
        "Patient_Smoker: If the patient was a smoker or not\n",
        "\n",
        "Patient_Rural_Urban: If the patient stayed in Rural or Urban part of the country\n",
        "\n",
        "Previous_Condition: Condition of the patient before the start of the treatment ( This variable is splitted into 8 columns - A, B, C, D, E, F, Z and Number_of_prev_cond. A, B, C, D, E, F and Z are the previous conditions of the patient. \n",
        "\n",
        "Suppose for one patient, if the entry in column A is 1, it means that the previous condition of the patient was A. If the patient didn't have that condition, it is 0 and same for other conditions. If a patient has previous condition as A and C , columns A and C will have entries as 1 and 1 respectively while the other column B, D, E, F, Z will have entries 0, 0, 0, 0, 0 respectively. The column Number_of_prev_cond will have entry as 2 i.e. 1 + 0 + 1 + 0 + 0 + 0 + 0 + 0 = 2 in this case. )"
      ]
    },
    {
      "cell_type": "code",
      "metadata": {
        "id": "ce4rl8-uXh2A"
      },
      "source": [
        "pharma_data.Treated_with_drugs=pharma_data.Treated_with_drugs.groupby(pharma_data['Diagnosed_Condition']).fillna(pharma_data['Treated_with_drugs'].mode()[0])\n"
      ],
      "execution_count": 7,
      "outputs": []
    },
    {
      "cell_type": "code",
      "metadata": {
        "colab": {
          "base_uri": "https://localhost:8080/",
          "height": 226
        },
        "id": "Xo27EPH19Ba4",
        "outputId": "539918a8-55a2-407a-a145-0ddea9d2f709"
      },
      "source": [
        "pharma_data.head()"
      ],
      "execution_count": 8,
      "outputs": [
        {
          "output_type": "execute_result",
          "data": {
            "text/html": [
              "<div>\n",
              "<style scoped>\n",
              "    .dataframe tbody tr th:only-of-type {\n",
              "        vertical-align: middle;\n",
              "    }\n",
              "\n",
              "    .dataframe tbody tr th {\n",
              "        vertical-align: top;\n",
              "    }\n",
              "\n",
              "    .dataframe thead th {\n",
              "        text-align: right;\n",
              "    }\n",
              "</style>\n",
              "<table border=\"1\" class=\"dataframe\">\n",
              "  <thead>\n",
              "    <tr style=\"text-align: right;\">\n",
              "      <th></th>\n",
              "      <th>ID_Patient_Care_Situation</th>\n",
              "      <th>Diagnosed_Condition</th>\n",
              "      <th>Patient_ID</th>\n",
              "      <th>Treated_with_drugs</th>\n",
              "      <th>Patient_Age</th>\n",
              "      <th>Patient_Body_Mass_Index</th>\n",
              "      <th>Patient_Smoker</th>\n",
              "      <th>Patient_Rural_Urban</th>\n",
              "      <th>Patient_mental_condition</th>\n",
              "      <th>A</th>\n",
              "      <th>B</th>\n",
              "      <th>C</th>\n",
              "      <th>D</th>\n",
              "      <th>E</th>\n",
              "      <th>F</th>\n",
              "      <th>Z</th>\n",
              "      <th>Number_of_prev_cond</th>\n",
              "      <th>Survived_1_year</th>\n",
              "    </tr>\n",
              "  </thead>\n",
              "  <tbody>\n",
              "    <tr>\n",
              "      <th>0</th>\n",
              "      <td>22374</td>\n",
              "      <td>8</td>\n",
              "      <td>3333</td>\n",
              "      <td>DX6</td>\n",
              "      <td>56</td>\n",
              "      <td>18.479385</td>\n",
              "      <td>YES</td>\n",
              "      <td>URBAN</td>\n",
              "      <td>Stable</td>\n",
              "      <td>1.0</td>\n",
              "      <td>0.0</td>\n",
              "      <td>0.0</td>\n",
              "      <td>0.0</td>\n",
              "      <td>1.0</td>\n",
              "      <td>0.0</td>\n",
              "      <td>0.0</td>\n",
              "      <td>2.0</td>\n",
              "      <td>0</td>\n",
              "    </tr>\n",
              "    <tr>\n",
              "      <th>1</th>\n",
              "      <td>18164</td>\n",
              "      <td>5</td>\n",
              "      <td>5740</td>\n",
              "      <td>DX2</td>\n",
              "      <td>36</td>\n",
              "      <td>22.945566</td>\n",
              "      <td>YES</td>\n",
              "      <td>RURAL</td>\n",
              "      <td>Stable</td>\n",
              "      <td>1.0</td>\n",
              "      <td>0.0</td>\n",
              "      <td>0.0</td>\n",
              "      <td>0.0</td>\n",
              "      <td>0.0</td>\n",
              "      <td>0.0</td>\n",
              "      <td>0.0</td>\n",
              "      <td>1.0</td>\n",
              "      <td>1</td>\n",
              "    </tr>\n",
              "    <tr>\n",
              "      <th>2</th>\n",
              "      <td>6283</td>\n",
              "      <td>23</td>\n",
              "      <td>10446</td>\n",
              "      <td>DX6</td>\n",
              "      <td>48</td>\n",
              "      <td>27.510027</td>\n",
              "      <td>YES</td>\n",
              "      <td>RURAL</td>\n",
              "      <td>Stable</td>\n",
              "      <td>1.0</td>\n",
              "      <td>0.0</td>\n",
              "      <td>0.0</td>\n",
              "      <td>0.0</td>\n",
              "      <td>0.0</td>\n",
              "      <td>0.0</td>\n",
              "      <td>0.0</td>\n",
              "      <td>1.0</td>\n",
              "      <td>0</td>\n",
              "    </tr>\n",
              "    <tr>\n",
              "      <th>3</th>\n",
              "      <td>5339</td>\n",
              "      <td>51</td>\n",
              "      <td>12011</td>\n",
              "      <td>DX1</td>\n",
              "      <td>5</td>\n",
              "      <td>19.130976</td>\n",
              "      <td>NO</td>\n",
              "      <td>URBAN</td>\n",
              "      <td>Stable</td>\n",
              "      <td>1.0</td>\n",
              "      <td>0.0</td>\n",
              "      <td>0.0</td>\n",
              "      <td>0.0</td>\n",
              "      <td>0.0</td>\n",
              "      <td>0.0</td>\n",
              "      <td>0.0</td>\n",
              "      <td>1.0</td>\n",
              "      <td>1</td>\n",
              "    </tr>\n",
              "    <tr>\n",
              "      <th>4</th>\n",
              "      <td>33012</td>\n",
              "      <td>0</td>\n",
              "      <td>12513</td>\n",
              "      <td>DX6</td>\n",
              "      <td>128</td>\n",
              "      <td>1.348400</td>\n",
              "      <td>Cannot say</td>\n",
              "      <td>RURAL</td>\n",
              "      <td>Stable</td>\n",
              "      <td>0.0</td>\n",
              "      <td>0.0</td>\n",
              "      <td>0.0</td>\n",
              "      <td>0.0</td>\n",
              "      <td>0.0</td>\n",
              "      <td>0.0</td>\n",
              "      <td>1.0</td>\n",
              "      <td>1.0</td>\n",
              "      <td>1</td>\n",
              "    </tr>\n",
              "  </tbody>\n",
              "</table>\n",
              "</div>"
            ],
            "text/plain": [
              "   ID_Patient_Care_Situation  ...  Survived_1_year\n",
              "0                      22374  ...                0\n",
              "1                      18164  ...                1\n",
              "2                       6283  ...                0\n",
              "3                       5339  ...                1\n",
              "4                      33012  ...                1\n",
              "\n",
              "[5 rows x 18 columns]"
            ]
          },
          "metadata": {},
          "execution_count": 8
        }
      ]
    },
    {
      "cell_type": "code",
      "metadata": {
        "id": "F6gONdzy9Ucg"
      },
      "source": [
        "pharma_data['Weight']=np.where(np.logical_and(pharma_data['Patient_Body_Mass_Index']>=25.0,pharma_data['Patient_Body_Mass_Index']<=29.9),\"Overweight\",\n",
        "                      np.where(np.logical_and(pharma_data['Patient_Body_Mass_Index']>=18.5,pharma_data['Patient_Body_Mass_Index']<=24.9),\"Normal Weight\",\n",
        "                      np.where(pharma_data['Patient_Body_Mass_Index']<=18.5,\"Underweight\",0)))\n",
        "\n",
        "test_data['Weight']=np.where(np.logical_and(test_data['Patient_Body_Mass_Index']>=25.0,test_data['Patient_Body_Mass_Index']<=29.9),\"Overweight\",\n",
        "                      np.where(np.logical_and(test_data['Patient_Body_Mass_Index']>=18.5,test_data['Patient_Body_Mass_Index']<=24.9),\"Normal Weight\",\n",
        "                      np.where(test_data['Patient_Body_Mass_Index']<=18.5,\"Underweight\",0)))"
      ],
      "execution_count": 9,
      "outputs": []
    },
    {
      "cell_type": "code",
      "metadata": {
        "id": "-Ijuyv7B-1Wi"
      },
      "source": [
        "pharma_data=pharma_data[pharma_data['Patient_Age']<=100]\n",
        "pharma_data=pharma_data[pharma_data['Patient_Age']>=0]\n",
        "test_data=test_data[test_data['Patient_Age']<=100]\n",
        "test_data=test_data[test_data['Patient_Age']>=0]"
      ],
      "execution_count": 10,
      "outputs": []
    },
    {
      "cell_type": "code",
      "metadata": {
        "id": "-UCGttVzX6-9"
      },
      "source": [
        "import numpy as np\n",
        "pharma_data['Unknown_Condition']=np.where(pharma_data['Number_of_prev_cond'].isna(),1,0)\n",
        "test_data['Unknown_Condition']=0\n",
        "pharma_data['Number_of_prev_cond']=np.where(pharma_data['Number_of_prev_cond'].isna(),1,pharma_data['Number_of_prev_cond'])\n",
        "pharma_data=pharma_data.fillna(0)"
      ],
      "execution_count": 11,
      "outputs": []
    },
    {
      "cell_type": "code",
      "metadata": {
        "id": "CxbeAqcFt8b1"
      },
      "source": [
        "pharma_data.drop(columns=['Patient_mental_condition'],axis=1,inplace=True)\n",
        "test_data.drop(columns=['Patient_mental_condition'],axis=1,inplace=True)"
      ],
      "execution_count": 12,
      "outputs": []
    },
    {
      "cell_type": "code",
      "metadata": {
        "id": "9oLTH1pMsjlu"
      },
      "source": [
        "pharma_data['Number_of_drugs']=pharma_data['Treated_with_drugs'].str.split().str.len()\n",
        "test_data['Number_of_drugs']=test_data['Treated_with_drugs'].str.split().str.len()"
      ],
      "execution_count": 13,
      "outputs": []
    },
    {
      "cell_type": "code",
      "metadata": {
        "id": "VtO8I5w-0Me5"
      },
      "source": [
        "pharma_data['Treated_with_drugs']=pharma_data['Treated_with_drugs'].str.strip()\n",
        "test_data['Treated_with_drugs']=test_data['Treated_with_drugs'].str.strip()"
      ],
      "execution_count": 14,
      "outputs": []
    },
    {
      "cell_type": "code",
      "metadata": {
        "colab": {
          "base_uri": "https://localhost:8080/"
        },
        "id": "P3u28TWpv_d0",
        "outputId": "63c016d5-c0ac-4212-bd35-9f431a3dab9f"
      },
      "source": [
        "pharma_data['Treated_with_drugs'].unique()"
      ],
      "execution_count": 15,
      "outputs": [
        {
          "output_type": "execute_result",
          "data": {
            "text/plain": [
              "array(['DX6', 'DX2', 'DX1', 'DX3', 'DX5', 'DX4', 'DX2 DX5', 'DX2 DX3',\n",
              "       'DX1 DX3', 'DX1 DX2', 'DX3 DX4', 'DX1 DX4', 'DX1 DX5',\n",
              "       'DX2 DX4 DX5', 'DX1 DX2 DX3', 'DX3 DX5', 'DX2 DX4', 'DX3 DX4 DX5',\n",
              "       'DX2 DX3 DX5', 'DX1 DX2 DX3 DX4', 'DX4 DX5', 'DX2 DX3 DX4',\n",
              "       'DX1 DX4 DX5', 'DX1 DX2 DX4', 'DX1 DX3 DX5', 'DX1 DX2 DX5',\n",
              "       'DX1 DX3 DX4', 'DX1 DX3 DX4 DX5', 'DX1 DX2 DX4 DX5',\n",
              "       'DX2 DX3 DX4 DX5', 'DX1 DX2 DX3 DX5', 'DX1 DX2 DX3 DX4 DX5'],\n",
              "      dtype=object)"
            ]
          },
          "metadata": {},
          "execution_count": 15
        }
      ]
    },
    {
      "cell_type": "code",
      "metadata": {
        "id": "d_whRvxKyrhZ"
      },
      "source": [
        "pharma_data['DX1']=np.where(pharma_data['Treated_with_drugs'].str.contains('DX1'),1,0)\n",
        "pharma_data['DX2']=np.where(pharma_data['Treated_with_drugs'].str.contains('DX2'),1,0)\n",
        "pharma_data['DX3']=np.where(pharma_data['Treated_with_drugs'].str.contains('DX3'),1,0)\n",
        "pharma_data['DX4']=np.where(pharma_data['Treated_with_drugs'].str.contains('DX4'),1,0)\n",
        "pharma_data['DX5']=np.where(pharma_data['Treated_with_drugs'].str.contains('DX5'),1,0)\n",
        "pharma_data['DX6']=np.where(pharma_data['Treated_with_drugs'].str.contains('DX6'),1,0)\n",
        "\n",
        "test_data['DX1']=np.where(test_data['Treated_with_drugs'].str.contains('DX1'),1,0)\n",
        "test_data['DX2']=np.where(test_data['Treated_with_drugs'].str.contains('DX2'),1,0)\n",
        "test_data['DX3']=np.where(test_data['Treated_with_drugs'].str.contains('DX3'),1,0)\n",
        "test_data['DX4']=np.where(test_data['Treated_with_drugs'].str.contains('DX4'),1,0)\n",
        "test_data['DX5']=np.where(test_data['Treated_with_drugs'].str.contains('DX5'),1,0)\n",
        "test_data['DX6']=np.where(test_data['Treated_with_drugs'].str.contains('DX6'),1,0)"
      ],
      "execution_count": 16,
      "outputs": []
    },
    {
      "cell_type": "code",
      "metadata": {
        "colab": {
          "base_uri": "https://localhost:8080/"
        },
        "id": "L2Z5ARbXu9Ti",
        "outputId": "5326d2e9-1ada-4219-b731-6aa5d2c33b62"
      },
      "source": [
        "from sklearn.model_selection import train_test_split\n",
        "train, localtest = train_test_split(pharma_data,test_size=0.2,random_state=0)\n",
        "\n",
        "train.shape, localtest.shape"
      ],
      "execution_count": 17,
      "outputs": [
        {
          "output_type": "execute_result",
          "data": {
            "text/plain": [
              "((18467, 26), (4617, 26))"
            ]
          },
          "metadata": {},
          "execution_count": 17
        }
      ]
    },
    {
      "cell_type": "code",
      "metadata": {
        "id": "OPko8sEzbKNQ"
      },
      "source": [
        "categorical_columns = list(pharma_data.columns[pharma_data.dtypes == 'object'])\n",
        "    \n",
        "from sklearn import preprocessing  \n",
        "label_encoder = preprocessing.LabelEncoder() \n",
        "\n",
        "for column in categorical_columns:\n",
        "    label_encoder.fit(pd.concat([train[column], localtest[column],test_data[column]], axis=0, sort=False))\n",
        "    train[column]= label_encoder.transform(train[column])\n",
        "    localtest[column]= label_encoder.transform(localtest[column])\n",
        "    test_data[column]= label_encoder.transform(test_data[column])"
      ],
      "execution_count": 18,
      "outputs": []
    },
    {
      "cell_type": "code",
      "metadata": {
        "colab": {
          "base_uri": "https://localhost:8080/"
        },
        "id": "AezGXdWqdTRU",
        "outputId": "22b3e171-b510-4a75-d16f-2476af06669d"
      },
      "source": [
        "train.columns"
      ],
      "execution_count": 19,
      "outputs": [
        {
          "output_type": "execute_result",
          "data": {
            "text/plain": [
              "Index(['ID_Patient_Care_Situation', 'Diagnosed_Condition', 'Patient_ID',\n",
              "       'Treated_with_drugs', 'Patient_Age', 'Patient_Body_Mass_Index',\n",
              "       'Patient_Smoker', 'Patient_Rural_Urban', 'A', 'B', 'C', 'D', 'E', 'F',\n",
              "       'Z', 'Number_of_prev_cond', 'Survived_1_year', 'Weight',\n",
              "       'Unknown_Condition', 'Number_of_drugs', 'DX1', 'DX2', 'DX3', 'DX4',\n",
              "       'DX5', 'DX6'],\n",
              "      dtype='object')"
            ]
          },
          "metadata": {},
          "execution_count": 19
        }
      ]
    },
    {
      "cell_type": "code",
      "metadata": {
        "id": "3z0HtMBf4vTc"
      },
      "source": [
        "# lookup=data.groupby(['location','society'])['price'].agg(['mean']).reset_index()\n",
        "# lookup=lookup.rename(columns={'mean':'location_society_mean'})\n",
        "# data=pd.merge(data,lookup,how='left',left_on=['location','society'],right_on=['location','society'])\n",
        "# test=pd.merge(test,lookup,how='left',left_on=['location','society'],right_on=['location','society'])\n",
        "# lookup"
      ],
      "execution_count": 20,
      "outputs": []
    },
    {
      "cell_type": "code",
      "metadata": {
        "id": "rAj1LRl5cvKN"
      },
      "source": [
        "columns=['Diagnosed_Condition', 'Patient_Age', 'Patient_Body_Mass_Index',\n",
        "       'Patient_Smoker', 'Patient_Rural_Urban',  'Number_of_prev_cond','Number_of_drugs',\n",
        "       'DX1', 'DX2', 'DX3', 'DX4', 'DX5', 'DX6','A', 'B', 'C', 'D', 'E', 'F','Z','Weight']"
      ],
      "execution_count": 21,
      "outputs": []
    },
    {
      "cell_type": "code",
      "metadata": {
        "id": "WF7PZi-m2uJQ"
      },
      "source": [
        "# from sklearn.feature_selection import RFECV\n",
        "# from catboost import CatBoostClassifier\n",
        "# clf_rf_4 = CatBoostClassifier(random_state=100,logging_level='Silent')\n",
        "\n",
        "# rfecv = RFECV(estimator=clf_rf_4, step=1, cv=3,scoring='f1')  \n",
        "# rfecv = rfecv.fit(train[columns],train['Survived_1_year'])\n",
        "\n",
        "# print('Optimal number of features :', rfecv.n_features_)\n",
        "# print('Best features :', X_train[features].columns[rfecv.support_])"
      ],
      "execution_count": 22,
      "outputs": []
    },
    {
      "cell_type": "code",
      "metadata": {
        "colab": {
          "base_uri": "https://localhost:8080/"
        },
        "id": "Dzs9hzysuEtt",
        "outputId": "fec576e4-5d34-4ab1-97fb-14ad54ba22ea"
      },
      "source": [
        "!pip install catboost"
      ],
      "execution_count": 27,
      "outputs": [
        {
          "output_type": "stream",
          "name": "stdout",
          "text": [
            "Collecting catboost\n",
            "  Downloading catboost-1.0.3-cp37-none-manylinux1_x86_64.whl (76.3 MB)\n",
            "\u001b[K     |████████████████████████████████| 76.3 MB 1.4 MB/s \n",
            "\u001b[?25hRequirement already satisfied: scipy in /usr/local/lib/python3.7/dist-packages (from catboost) (1.4.1)\n",
            "Requirement already satisfied: numpy>=1.16.0 in /usr/local/lib/python3.7/dist-packages (from catboost) (1.19.5)\n",
            "Requirement already satisfied: graphviz in /usr/local/lib/python3.7/dist-packages (from catboost) (0.10.1)\n",
            "Requirement already satisfied: plotly in /usr/local/lib/python3.7/dist-packages (from catboost) (4.4.1)\n",
            "Requirement already satisfied: matplotlib in /usr/local/lib/python3.7/dist-packages (from catboost) (3.2.2)\n",
            "Requirement already satisfied: pandas>=0.24.0 in /usr/local/lib/python3.7/dist-packages (from catboost) (1.1.5)\n",
            "Requirement already satisfied: six in /usr/local/lib/python3.7/dist-packages (from catboost) (1.15.0)\n",
            "Requirement already satisfied: python-dateutil>=2.7.3 in /usr/local/lib/python3.7/dist-packages (from pandas>=0.24.0->catboost) (2.8.2)\n",
            "Requirement already satisfied: pytz>=2017.2 in /usr/local/lib/python3.7/dist-packages (from pandas>=0.24.0->catboost) (2018.9)\n",
            "Requirement already satisfied: kiwisolver>=1.0.1 in /usr/local/lib/python3.7/dist-packages (from matplotlib->catboost) (1.3.2)\n",
            "Requirement already satisfied: cycler>=0.10 in /usr/local/lib/python3.7/dist-packages (from matplotlib->catboost) (0.11.0)\n",
            "Requirement already satisfied: pyparsing!=2.0.4,!=2.1.2,!=2.1.6,>=2.0.1 in /usr/local/lib/python3.7/dist-packages (from matplotlib->catboost) (3.0.6)\n",
            "Requirement already satisfied: retrying>=1.3.3 in /usr/local/lib/python3.7/dist-packages (from plotly->catboost) (1.3.3)\n",
            "Installing collected packages: catboost\n",
            "Successfully installed catboost-1.0.3\n"
          ]
        }
      ]
    },
    {
      "cell_type": "code",
      "metadata": {
        "colab": {
          "base_uri": "https://localhost:8080/"
        },
        "id": "cnbKvu6md5_b",
        "outputId": "64f40ee5-1c46-493d-e04a-6f2d7b75a4ec"
      },
      "source": [
        "from sklearn.metrics import f1_score\n",
        "from catboost import CatBoostClassifier\n",
        "cat = CatBoostClassifier(random_state=100,logging_level='Silent')\n",
        "cat.fit(train[columns],train['Survived_1_year'])\n",
        "y_pred_cat=cat.predict(localtest[columns])\n",
        "f1_score(localtest['Survived_1_year'],y_pred_cat)"
      ],
      "execution_count": 28,
      "outputs": [
        {
          "output_type": "execute_result",
          "data": {
            "text/plain": [
              "0.8843675822312649"
            ]
          },
          "metadata": {},
          "execution_count": 28
        }
      ]
    },
    {
      "cell_type": "code",
      "metadata": {
        "id": "5UeQp2b3eIj2",
        "colab": {
          "base_uri": "https://localhost:8080/",
          "height": 17
        },
        "outputId": "5aad741c-1978-44af-9bc8-40ac13ffc7ef"
      },
      "source": [
        "predictions=cat.predict(test_data[columns])\n",
        "submission=pd.DataFrame()\n",
        "submission['prediction']=predictions\n",
        "submission.to_csv('submission.csv',index=False)\n",
        "from google.colab import files       \n",
        "files.download('submission.csv')"
      ],
      "execution_count": 29,
      "outputs": [
        {
          "output_type": "display_data",
          "data": {
            "application/javascript": [
              "\n",
              "    async function download(id, filename, size) {\n",
              "      if (!google.colab.kernel.accessAllowed) {\n",
              "        return;\n",
              "      }\n",
              "      const div = document.createElement('div');\n",
              "      const label = document.createElement('label');\n",
              "      label.textContent = `Downloading \"${filename}\": `;\n",
              "      div.appendChild(label);\n",
              "      const progress = document.createElement('progress');\n",
              "      progress.max = size;\n",
              "      div.appendChild(progress);\n",
              "      document.body.appendChild(div);\n",
              "\n",
              "      const buffers = [];\n",
              "      let downloaded = 0;\n",
              "\n",
              "      const channel = await google.colab.kernel.comms.open(id);\n",
              "      // Send a message to notify the kernel that we're ready.\n",
              "      channel.send({})\n",
              "\n",
              "      for await (const message of channel.messages) {\n",
              "        // Send a message to notify the kernel that we're ready.\n",
              "        channel.send({})\n",
              "        if (message.buffers) {\n",
              "          for (const buffer of message.buffers) {\n",
              "            buffers.push(buffer);\n",
              "            downloaded += buffer.byteLength;\n",
              "            progress.value = downloaded;\n",
              "          }\n",
              "        }\n",
              "      }\n",
              "      const blob = new Blob(buffers, {type: 'application/binary'});\n",
              "      const a = document.createElement('a');\n",
              "      a.href = window.URL.createObjectURL(blob);\n",
              "      a.download = filename;\n",
              "      div.appendChild(a);\n",
              "      a.click();\n",
              "      div.remove();\n",
              "    }\n",
              "  "
            ],
            "text/plain": [
              "<IPython.core.display.Javascript object>"
            ]
          },
          "metadata": {}
        },
        {
          "output_type": "display_data",
          "data": {
            "application/javascript": [
              "download(\"download_ddac8c11-b943-46b5-a94d-d4030e536664\", \"submission.csv\", 18671)"
            ],
            "text/plain": [
              "<IPython.core.display.Javascript object>"
            ]
          },
          "metadata": {}
        }
      ]
    },
    {
      "cell_type": "code",
      "metadata": {
        "id": "fopw_yZTt7js"
      },
      "source": [
        ""
      ],
      "execution_count": null,
      "outputs": []
    }
  ]
}